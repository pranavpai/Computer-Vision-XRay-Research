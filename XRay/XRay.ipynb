{
 "cells": [
  {
   "cell_type": "markdown",
   "metadata": {},
   "source": [
    "# <p style=\"text-align: center; font-size: 30px;\">📊 <b>Statistical ML: Group 10 - XRay Project</b> 📊</p>\n"
   ]
  },
  {
   "cell_type": "markdown",
   "metadata": {},
   "source": [
    "## Libraries"
   ]
  },
  {
   "cell_type": "code",
   "execution_count": 27,
   "metadata": {},
   "outputs": [],
   "source": [
    "# Libraries\n",
    "import os\n",
    "import csv\n",
    "import xml.etree.ElementTree as ET\n",
    "import pandas as pd"
   ]
  },
  {
   "cell_type": "markdown",
   "metadata": {},
   "source": [
    "## Setting-Up & Loading the Data"
   ]
  },
  {
   "cell_type": "code",
   "execution_count": 33,
   "metadata": {},
   "outputs": [],
   "source": [
    "# Set the environment variable for the VS Code session\n",
    "os.environ['XRAY_DATA_PATH'] = '/Users/pranavpai/Code/StatsML/Statisitcal_Machine_Learning_Project/XRay'\n",
    "# Use the XRAY_DATA_PATH environment variable\n",
    "base_path = os.getenv('XRAY_DATA_PATH')"
   ]
  },
  {
   "cell_type": "code",
   "execution_count": null,
   "metadata": {},
   "outputs": [],
   "source": [
    "# Function to convert XML to CSV\n",
    "def xml_to_csv(xml_folder, output_csv):\n",
    "    if os.path.exists(output_csv):\n",
    "        print(f\"{output_csv} already exists. Skipping conversion.\")\n",
    "        return\n",
    "    \n",
    "    with open(output_csv, 'w', newline='') as csvfile:\n",
    "        csvwriter = csv.writer(csvfile)\n",
    "        # Write the header row with all the relevant properties\n",
    "        csvwriter.writerow(['filename', 'width', 'height', 'depth', 'class', 'pose', 'truncated', 'difficult', 'xmin', 'ymin', 'xmax', 'ymax'])\n",
    "        \n",
    "        # Iterate over all XML files in the folder\n",
    "        for xml_file in os.listdir(xml_folder):\n",
    "            if xml_file.endswith('.xml'):\n",
    "                tree = ET.parse(os.path.join(xml_folder, xml_file))\n",
    "                root = tree.getroot()\n",
    "\n",
    "                # Extract filename, width, height, and depth\n",
    "                filename = root.find('filename').text\n",
    "                size = root.find('size')\n",
    "                width = int(size.find('width').text)\n",
    "                height = int(size.find('height').text)\n",
    "                depth = int(size.find('depth').text)\n",
    "\n",
    "                # Iterate over all object elements in the XML\n",
    "                for obj in root.findall('object'):\n",
    "                    label = obj.find('name').text\n",
    "                    pose = obj.find('pose').text\n",
    "                    truncated = int(obj.find('truncated').text)\n",
    "                    difficult = int(obj.find('difficult').text)\n",
    "                    bbox = obj.find('bndbox')\n",
    "                    xmin = int(bbox.find('xmin').text)\n",
    "                    ymin = int(bbox.find('ymin').text)\n",
    "                    xmax = int(bbox.find('xmax').text)\n",
    "                    ymax = int(bbox.find('ymax').text)\n",
    "\n",
    "                    # Write data to CSV\n",
    "                    csvwriter.writerow([filename, width, height, depth, label, pose, truncated, difficult, xmin, ymin, xmax, ymax])\n",
    "\n",
    "    print(f\"{output_csv} has been created successfully.\")\n",
    "\n",
    "if base_path is None:\n",
    "    raise EnvironmentError(\"Environment variable 'XRAY_DATA_PATH' is not set.\")\n",
    "\n",
    "# Construct paths using the base_path from the environment variable\n",
    "train_xml_folder = os.path.join(base_path, 'Train', 'Annotations')\n",
    "test_xml_folder = os.path.join(base_path, 'Test', 'Annotations')\n",
    "\n",
    "# Output CSV paths\n",
    "train_output_csv = os.path.join(base_path, 'Train', 'train_annotations.csv')\n",
    "test_output_csv = os.path.join(base_path, 'Test', 'test_annotations.csv')\n",
    "\n",
    "# Convert XML to CSV for train and test datasets\n",
    "xml_to_csv(train_xml_folder, train_output_csv)\n",
    "xml_to_csv(test_xml_folder, test_output_csv)\n"
   ]
  },
  {
   "cell_type": "code",
   "execution_count": null,
   "metadata": {},
   "outputs": [],
   "source": [
    "# Load and display stats for CSV\n",
    "def compute_csv_stats(csv_path, name):\n",
    "    try:\n",
    "        # Load the CSV into a DataFrame\n",
    "        df = pd.read_csv(csv_path)\n",
    "\n",
    "        # Display basic stats\n",
    "        print(f\"--- Stats for {name} ---\")\n",
    "        print(f\"Total Rows: {len(df)}\")\n",
    "        print(f\"Unique Images: {df['filename'].nunique()}\")\n",
    "\n",
    "        # Show a summary of the dataset (describe numeric fields)\n",
    "        print(\"\\nSummary Statistics:\")\n",
    "        print(df.describe())\n",
    "\n",
    "        # Show the first 5 rows as a sample\n",
    "        print(\"\\nSample Data (first 5 rows):\")\n",
    "        print(df.head())\n",
    "\n",
    "        # Add a blank line after each section for readability\n",
    "        print(\"\\n\" * 3)\n",
    "\n",
    "    except Exception as e:\n",
    "        print(f\"An error occurred while processing {name}: {e}\")\n",
    "\n",
    "compute_csv_stats(train_output_csv, 'Training Annotations')\n",
    "compute_csv_stats(test_output_csv, 'Testing Annotations')"
   ]
  }
 ],
 "metadata": {
  "kernelspec": {
   "display_name": "sml",
   "language": "python",
   "name": "python3"
  },
  "language_info": {
   "codemirror_mode": {
    "name": "ipython",
    "version": 3
   },
   "file_extension": ".py",
   "mimetype": "text/x-python",
   "name": "python",
   "nbconvert_exporter": "python",
   "pygments_lexer": "ipython3",
   "version": "3.12.5"
  }
 },
 "nbformat": 4,
 "nbformat_minor": 2
}
